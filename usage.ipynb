{
 "cells": [
  {
   "cell_type": "code",
   "execution_count": 1,
   "metadata": {},
   "outputs": [],
   "source": [
    "import matplotlib.pyplot as plt\n",
    "from PIL import Image, ImageFilter\n",
    "from pprint import pprint\n",
    "\n",
    "from utils.dataloader import gen_dataloader\n",
    "from utils.model_manager import Manager\n",
    "from models.cnn import LW60\n",
    "from config.config import TransformParam, ConfDataloader"
   ]
  },
  {
   "cell_type": "markdown",
   "metadata": {},
   "source": [
    "## dataloader"
   ]
  },
  {
   "cell_type": "code",
   "execution_count": 2,
   "metadata": {},
   "outputs": [],
   "source": [
    "list_dir = [\n",
    "    \"./test/test_imgs/img/bike/\",\n",
    "    \"./test/test_imgs/img/car/\"]\n",
    "list_label = [\"bike\", \"car\"]\n",
    "\n",
    "dataloader, label_num_dict = gen_dataloader(\n",
    "    data_dirs=list_dir, \n",
    "    labels=list_label, \n",
    "    test_size=0.2)"
   ]
  },
  {
   "cell_type": "code",
   "execution_count": 3,
   "metadata": {},
   "outputs": [
    {
     "name": "stderr",
     "output_type": "stream",
     "text": [
      "Clipping input data to the valid range for imshow with RGB data ([0..1] for floats or [0..255] for integers).\n"
     ]
    },
    {
     "name": "stdout",
     "output_type": "stream",
     "text": [
      "numed_label: 0\n"
     ]
    },
    {
     "data": {
      "text/plain": [
       "<matplotlib.image.AxesImage at 0x26ad01a4da0>"
      ]
     },
     "execution_count": 3,
     "metadata": {},
     "output_type": "execute_result"
    },
    {
     "data": {
      "image/png": "[encoded data removed]",
      "text/plain": [
       "<Figure size 432x288 with 1 Axes>"
      ]
     },
     "metadata": {
      "needs_background": "light"
     },
     "output_type": "display_data"
    }
   ],
   "source": [
    "x, y = dataloader.dataset.__getitem__(index=0)\n",
    "\n",
    "print(f\"numed_label: {y}\")\n",
    "plt.imshow(x.numpy().transpose((1, 2, 0)))"
   ]
  },
  {
   "cell_type": "code",
   "execution_count": 4,
   "metadata": {},
   "outputs": [
    {
     "data": {
      "text/plain": [
       "{'train': 12, 'test': 4}"
      ]
     },
     "execution_count": 4,
     "metadata": {},
     "output_type": "execute_result"
    }
   ],
   "source": [
    "dataloader.data_num_all()"
   ]
  },
  {
   "cell_type": "markdown",
   "metadata": {},
   "source": [
    "## model"
   ]
  },
  {
   "cell_type": "code",
   "execution_count": 5,
   "metadata": {},
   "outputs": [],
   "source": [
    "model = LW60(\n",
    "    d_params={\n",
    "        \"dropout_feature\": 0.3,\n",
    "        \"dropout_classifier\": 0.3,\n",
    "        \"class_num\": len(label_num_dict.keys())})"
   ]
  },
  {
   "cell_type": "code",
   "execution_count": 6,
   "metadata": {},
   "outputs": [
    {
     "data": {
      "text/plain": [
       "{'name': 'LW60',\n",
       " 'params': {'dropout_feature': 0.3, 'dropout_classifier': 0.3, 'class_num': 2}}"
      ]
     },
     "execution_count": 6,
     "metadata": {},
     "output_type": "execute_result"
    }
   ],
   "source": [
    "model.model_descriptions()"
   ]
  },
  {
   "cell_type": "markdown",
   "metadata": {},
   "source": [
    "## prepare manager and train model"
   ]
  },
  {
   "cell_type": "code",
   "execution_count": 7,
   "metadata": {},
   "outputs": [
    {
     "name": "stdout",
     "output_type": "stream",
     "text": [
      "Epoch:10/100 ============\n",
      "    Mode: train, Loss: 0.687, Acc: 0.667\n",
      "    Mode: test, Loss: 0.693, Acc: 0.5\n",
      "Epoch:20/100 ============\n",
      "    Mode: train, Loss: 0.69, Acc: 0.583\n",
      "    Mode: test, Loss: 0.692, Acc: 0.5\n",
      "Epoch:30/100 ============\n",
      "    Mode: train, Loss: 0.688, Acc: 0.75\n",
      "    Mode: test, Loss: 0.691, Acc: 0.75\n",
      "Epoch:40/100 ============\n",
      "    Mode: train, Loss: 0.686, Acc: 0.833\n",
      "    Mode: test, Loss: 0.69, Acc: 0.75\n",
      "Epoch:50/100 ============\n",
      "    Mode: train, Loss: 0.685, Acc: 0.917\n",
      "    Mode: test, Loss: 0.689, Acc: 0.75\n",
      "Epoch:60/100 ============\n",
      "    Mode: train, Loss: 0.693, Acc: 0.417\n",
      "    Mode: test, Loss: 0.688, Acc: 0.75\n",
      "Epoch:70/100 ============\n",
      "    Mode: train, Loss: 0.685, Acc: 0.75\n",
      "    Mode: test, Loss: 0.687, Acc: 0.75\n",
      "Epoch:80/100 ============\n",
      "    Mode: train, Loss: 0.686, Acc: 0.583\n",
      "    Mode: test, Loss: 0.686, Acc: 0.75\n",
      "Epoch:90/100 ============\n",
      "    Mode: train, Loss: 0.685, Acc: 0.583\n",
      "    Mode: test, Loss: 0.684, Acc: 0.75\n",
      "Epoch:100/100 ============\n",
      "    Mode: train, Loss: 0.679, Acc: 0.833\n",
      "    Mode: test, Loss: 0.683, Acc: 0.75\n"
     ]
    }
   ],
   "source": [
    "manager = Manager(model=model, label_num_dict=label_num_dict)\n",
    "manager.train(num_epochs=100, dataloader=dataloader, print_epoch_step=int(10))"
   ]
  },
  {
   "cell_type": "code",
   "execution_count": 8,
   "metadata": {
    "collapsed": true,
    "jupyter": {
     "outputs_hidden": true
    }
   },
   "outputs": [
    {
     "data": {
      "text/plain": [
       "{'start': '2021-12-30 17:43:42',\n",
       " 'model_descriptions': {'name': 'LW60',\n",
       "  'params': {'dropout_feature': 0.3,\n",
       "   'dropout_classifier': 0.3,\n",
       "   'class_num': 2}},\n",
       " 'scores': [{'train_loss': 0.697,\n",
       "   'train_acc': 0.25,\n",
       "   'test_loss': 0.694,\n",
       "   'test_acc': 0.5},\n",
       "  {'train_loss': 0.697,\n",
       "   'train_acc': 0.333,\n",
       "   'test_loss': 0.694,\n",
       "   'test_acc': 0.5},\n",
       "  {'train_loss': 0.695,\n",
       "   'train_acc': 0.417,\n",
       "   'test_loss': 0.694,\n",
       "   'test_acc': 0.5},\n",
       "  {'train_loss': 0.685,\n",
       "   'train_acc': 0.667,\n",
       "   'test_loss': 0.694,\n",
       "   'test_acc': 0.5},\n",
       "  {'train_loss': 0.691,\n",
       "   'train_acc': 0.417,\n",
       "   'test_loss': 0.694,\n",
       "   'test_acc': 0.5},\n",
       "  {'train_loss': 0.693,\n",
       "   'train_acc': 0.417,\n",
       "   'test_loss': 0.694,\n",
       "   'test_acc': 0.5},\n",
       "  {'train_loss': 0.692,\n",
       "   'train_acc': 0.583,\n",
       "   'test_loss': 0.694,\n",
       "   'test_acc': 0.5},\n",
       "  {'train_loss': 0.691,\n",
       "   'train_acc': 0.667,\n",
       "   'test_loss': 0.694,\n",
       "   'test_acc': 0.25},\n",
       "  {'train_loss': 0.691,\n",
       "   'train_acc': 0.583,\n",
       "   'test_loss': 0.693,\n",
       "   'test_acc': 0.5},\n",
       "  {'train_loss': 0.687,\n",
       "   'train_acc': 0.667,\n",
       "   'test_loss': 0.693,\n",
       "   'test_acc': 0.5},\n",
       "  {'train_loss': 0.697, 'train_acc': 0.5, 'test_loss': 0.693, 'test_acc': 0.5},\n",
       "  {'train_loss': 0.688,\n",
       "   'train_acc': 0.583,\n",
       "   'test_loss': 0.693,\n",
       "   'test_acc': 0.5},\n",
       "  {'train_loss': 0.691,\n",
       "   'train_acc': 0.583,\n",
       "   'test_loss': 0.693,\n",
       "   'test_acc': 0.5},\n",
       "  {'train_loss': 0.694,\n",
       "   'train_acc': 0.417,\n",
       "   'test_loss': 0.693,\n",
       "   'test_acc': 0.25},\n",
       "  {'train_loss': 0.692,\n",
       "   'train_acc': 0.417,\n",
       "   'test_loss': 0.693,\n",
       "   'test_acc': 0.25},\n",
       "  {'train_loss': 0.691,\n",
       "   'train_acc': 0.583,\n",
       "   'test_loss': 0.693,\n",
       "   'test_acc': 0.5},\n",
       "  {'train_loss': 0.694, 'train_acc': 0.5, 'test_loss': 0.693, 'test_acc': 0.5},\n",
       "  {'train_loss': 0.692, 'train_acc': 0.5, 'test_loss': 0.692, 'test_acc': 0.5},\n",
       "  {'train_loss': 0.688,\n",
       "   'train_acc': 0.667,\n",
       "   'test_loss': 0.692,\n",
       "   'test_acc': 0.5},\n",
       "  {'train_loss': 0.69,\n",
       "   'train_acc': 0.583,\n",
       "   'test_loss': 0.692,\n",
       "   'test_acc': 0.5},\n",
       "  {'train_loss': 0.691,\n",
       "   'train_acc': 0.583,\n",
       "   'test_loss': 0.692,\n",
       "   'test_acc': 0.5},\n",
       "  {'train_loss': 0.692,\n",
       "   'train_acc': 0.583,\n",
       "   'test_loss': 0.692,\n",
       "   'test_acc': 0.5},\n",
       "  {'train_loss': 0.694, 'train_acc': 0.5, 'test_loss': 0.692, 'test_acc': 0.5},\n",
       "  {'train_loss': 0.694,\n",
       "   'train_acc': 0.5,\n",
       "   'test_loss': 0.692,\n",
       "   'test_acc': 0.75},\n",
       "  {'train_loss': 0.691,\n",
       "   'train_acc': 0.5,\n",
       "   'test_loss': 0.692,\n",
       "   'test_acc': 0.75},\n",
       "  {'train_loss': 0.692,\n",
       "   'train_acc': 0.417,\n",
       "   'test_loss': 0.692,\n",
       "   'test_acc': 0.75},\n",
       "  {'train_loss': 0.69,\n",
       "   'train_acc': 0.583,\n",
       "   'test_loss': 0.692,\n",
       "   'test_acc': 0.75},\n",
       "  {'train_loss': 0.686,\n",
       "   'train_acc': 0.75,\n",
       "   'test_loss': 0.691,\n",
       "   'test_acc': 0.75},\n",
       "  {'train_loss': 0.692,\n",
       "   'train_acc': 0.5,\n",
       "   'test_loss': 0.691,\n",
       "   'test_acc': 0.75},\n",
       "  {'train_loss': 0.688,\n",
       "   'train_acc': 0.75,\n",
       "   'test_loss': 0.691,\n",
       "   'test_acc': 0.75},\n",
       "  {'train_loss': 0.692,\n",
       "   'train_acc': 0.583,\n",
       "   'test_loss': 0.691,\n",
       "   'test_acc': 0.75},\n",
       "  {'train_loss': 0.694,\n",
       "   'train_acc': 0.417,\n",
       "   'test_loss': 0.691,\n",
       "   'test_acc': 0.75},\n",
       "  {'train_loss': 0.686,\n",
       "   'train_acc': 0.75,\n",
       "   'test_loss': 0.691,\n",
       "   'test_acc': 0.75},\n",
       "  {'train_loss': 0.693,\n",
       "   'train_acc': 0.667,\n",
       "   'test_loss': 0.691,\n",
       "   'test_acc': 0.75},\n",
       "  {'train_loss': 0.69, 'train_acc': 0.5, 'test_loss': 0.691, 'test_acc': 0.75},\n",
       "  {'train_loss': 0.691,\n",
       "   'train_acc': 0.667,\n",
       "   'test_loss': 0.691,\n",
       "   'test_acc': 0.75},\n",
       "  {'train_loss': 0.691,\n",
       "   'train_acc': 0.75,\n",
       "   'test_loss': 0.691,\n",
       "   'test_acc': 0.75},\n",
       "  {'train_loss': 0.686,\n",
       "   'train_acc': 0.917,\n",
       "   'test_loss': 0.691,\n",
       "   'test_acc': 0.75},\n",
       "  {'train_loss': 0.688,\n",
       "   'train_acc': 0.75,\n",
       "   'test_loss': 0.69,\n",
       "   'test_acc': 0.75},\n",
       "  {'train_loss': 0.686,\n",
       "   'train_acc': 0.833,\n",
       "   'test_loss': 0.69,\n",
       "   'test_acc': 0.75},\n",
       "  {'train_loss': 0.691,\n",
       "   'train_acc': 0.75,\n",
       "   'test_loss': 0.69,\n",
       "   'test_acc': 0.75},\n",
       "  {'train_loss': 0.683,\n",
       "   'train_acc': 0.917,\n",
       "   'test_loss': 0.69,\n",
       "   'test_acc': 0.75},\n",
       "  {'train_loss': 0.69,\n",
       "   'train_acc': 0.667,\n",
       "   'test_loss': 0.69,\n",
       "   'test_acc': 0.75},\n",
       "  {'train_loss': 0.694,\n",
       "   'train_acc': 0.583,\n",
       "   'test_loss': 0.69,\n",
       "   'test_acc': 0.75},\n",
       "  {'train_loss': 0.689,\n",
       "   'train_acc': 0.583,\n",
       "   'test_loss': 0.69,\n",
       "   'test_acc': 0.75},\n",
       "  {'train_loss': 0.688,\n",
       "   'train_acc': 0.583,\n",
       "   'test_loss': 0.69,\n",
       "   'test_acc': 0.75},\n",
       "  {'train_loss': 0.686,\n",
       "   'train_acc': 0.833,\n",
       "   'test_loss': 0.689,\n",
       "   'test_acc': 0.75},\n",
       "  {'train_loss': 0.689,\n",
       "   'train_acc': 0.667,\n",
       "   'test_loss': 0.689,\n",
       "   'test_acc': 0.75},\n",
       "  {'train_loss': 0.685,\n",
       "   'train_acc': 0.917,\n",
       "   'test_loss': 0.689,\n",
       "   'test_acc': 0.75},\n",
       "  {'train_loss': 0.685,\n",
       "   'train_acc': 0.917,\n",
       "   'test_loss': 0.689,\n",
       "   'test_acc': 0.75},\n",
       "  {'train_loss': 0.689,\n",
       "   'train_acc': 0.5,\n",
       "   'test_loss': 0.689,\n",
       "   'test_acc': 0.75},\n",
       "  {'train_loss': 0.68, 'train_acc': 1.0, 'test_loss': 0.689, 'test_acc': 0.75},\n",
       "  {'train_loss': 0.694,\n",
       "   'train_acc': 0.25,\n",
       "   'test_loss': 0.689,\n",
       "   'test_acc': 0.75},\n",
       "  {'train_loss': 0.683,\n",
       "   'train_acc': 0.917,\n",
       "   'test_loss': 0.689,\n",
       "   'test_acc': 0.75},\n",
       "  {'train_loss': 0.686,\n",
       "   'train_acc': 0.833,\n",
       "   'test_loss': 0.688,\n",
       "   'test_acc': 0.75},\n",
       "  {'train_loss': 0.686,\n",
       "   'train_acc': 0.917,\n",
       "   'test_loss': 0.688,\n",
       "   'test_acc': 0.75},\n",
       "  {'train_loss': 0.686,\n",
       "   'train_acc': 0.667,\n",
       "   'test_loss': 0.688,\n",
       "   'test_acc': 0.75},\n",
       "  {'train_loss': 0.682,\n",
       "   'train_acc': 1.0,\n",
       "   'test_loss': 0.688,\n",
       "   'test_acc': 0.75},\n",
       "  {'train_loss': 0.687,\n",
       "   'train_acc': 0.583,\n",
       "   'test_loss': 0.688,\n",
       "   'test_acc': 0.75},\n",
       "  {'train_loss': 0.693,\n",
       "   'train_acc': 0.417,\n",
       "   'test_loss': 0.688,\n",
       "   'test_acc': 0.75},\n",
       "  {'train_loss': 0.691,\n",
       "   'train_acc': 0.583,\n",
       "   'test_loss': 0.688,\n",
       "   'test_acc': 0.75},\n",
       "  {'train_loss': 0.685,\n",
       "   'train_acc': 0.917,\n",
       "   'test_loss': 0.688,\n",
       "   'test_acc': 0.75},\n",
       "  {'train_loss': 0.682,\n",
       "   'train_acc': 1.0,\n",
       "   'test_loss': 0.688,\n",
       "   'test_acc': 0.75},\n",
       "  {'train_loss': 0.683,\n",
       "   'train_acc': 0.833,\n",
       "   'test_loss': 0.688,\n",
       "   'test_acc': 0.75},\n",
       "  {'train_loss': 0.69,\n",
       "   'train_acc': 0.667,\n",
       "   'test_loss': 0.687,\n",
       "   'test_acc': 0.75},\n",
       "  {'train_loss': 0.685,\n",
       "   'train_acc': 0.667,\n",
       "   'test_loss': 0.687,\n",
       "   'test_acc': 0.75},\n",
       "  {'train_loss': 0.678,\n",
       "   'train_acc': 1.0,\n",
       "   'test_loss': 0.687,\n",
       "   'test_acc': 0.75},\n",
       "  {'train_loss': 0.688,\n",
       "   'train_acc': 0.75,\n",
       "   'test_loss': 0.687,\n",
       "   'test_acc': 0.75},\n",
       "  {'train_loss': 0.683,\n",
       "   'train_acc': 0.75,\n",
       "   'test_loss': 0.687,\n",
       "   'test_acc': 0.75},\n",
       "  {'train_loss': 0.685,\n",
       "   'train_acc': 0.75,\n",
       "   'test_loss': 0.687,\n",
       "   'test_acc': 0.75},\n",
       "  {'train_loss': 0.685,\n",
       "   'train_acc': 0.75,\n",
       "   'test_loss': 0.687,\n",
       "   'test_acc': 0.75},\n",
       "  {'train_loss': 0.685,\n",
       "   'train_acc': 0.75,\n",
       "   'test_loss': 0.686,\n",
       "   'test_acc': 0.75},\n",
       "  {'train_loss': 0.689,\n",
       "   'train_acc': 0.583,\n",
       "   'test_loss': 0.686,\n",
       "   'test_acc': 0.75},\n",
       "  {'train_loss': 0.686,\n",
       "   'train_acc': 0.917,\n",
       "   'test_loss': 0.686,\n",
       "   'test_acc': 0.75},\n",
       "  {'train_loss': 0.684,\n",
       "   'train_acc': 0.833,\n",
       "   'test_loss': 0.686,\n",
       "   'test_acc': 0.75},\n",
       "  {'train_loss': 0.681,\n",
       "   'train_acc': 0.75,\n",
       "   'test_loss': 0.686,\n",
       "   'test_acc': 0.75},\n",
       "  {'train_loss': 0.684,\n",
       "   'train_acc': 0.667,\n",
       "   'test_loss': 0.686,\n",
       "   'test_acc': 0.75},\n",
       "  {'train_loss': 0.685,\n",
       "   'train_acc': 0.833,\n",
       "   'test_loss': 0.686,\n",
       "   'test_acc': 0.75},\n",
       "  {'train_loss': 0.685,\n",
       "   'train_acc': 0.75,\n",
       "   'test_loss': 0.686,\n",
       "   'test_acc': 0.75},\n",
       "  {'train_loss': 0.686,\n",
       "   'train_acc': 0.583,\n",
       "   'test_loss': 0.686,\n",
       "   'test_acc': 0.75},\n",
       "  {'train_loss': 0.688,\n",
       "   'train_acc': 0.667,\n",
       "   'test_loss': 0.685,\n",
       "   'test_acc': 0.75},\n",
       "  {'train_loss': 0.687,\n",
       "   'train_acc': 0.583,\n",
       "   'test_loss': 0.685,\n",
       "   'test_acc': 0.75},\n",
       "  {'train_loss': 0.687,\n",
       "   'train_acc': 0.583,\n",
       "   'test_loss': 0.685,\n",
       "   'test_acc': 0.75},\n",
       "  {'train_loss': 0.686,\n",
       "   'train_acc': 0.75,\n",
       "   'test_loss': 0.685,\n",
       "   'test_acc': 0.75},\n",
       "  {'train_loss': 0.689,\n",
       "   'train_acc': 0.667,\n",
       "   'test_loss': 0.685,\n",
       "   'test_acc': 0.75},\n",
       "  {'train_loss': 0.683,\n",
       "   'train_acc': 0.75,\n",
       "   'test_loss': 0.685,\n",
       "   'test_acc': 0.75},\n",
       "  {'train_loss': 0.686,\n",
       "   'train_acc': 0.583,\n",
       "   'test_loss': 0.685,\n",
       "   'test_acc': 0.75},\n",
       "  {'train_loss': 0.683,\n",
       "   'train_acc': 0.833,\n",
       "   'test_loss': 0.685,\n",
       "   'test_acc': 0.75},\n",
       "  {'train_loss': 0.683,\n",
       "   'train_acc': 0.917,\n",
       "   'test_loss': 0.685,\n",
       "   'test_acc': 0.75},\n",
       "  {'train_loss': 0.685,\n",
       "   'train_acc': 0.583,\n",
       "   'test_loss': 0.684,\n",
       "   'test_acc': 0.75},\n",
       "  {'train_loss': 0.682,\n",
       "   'train_acc': 0.833,\n",
       "   'test_loss': 0.684,\n",
       "   'test_acc': 0.75},\n",
       "  {'train_loss': 0.682,\n",
       "   'train_acc': 0.833,\n",
       "   'test_loss': 0.684,\n",
       "   'test_acc': 0.75},\n",
       "  {'train_loss': 0.681,\n",
       "   'train_acc': 0.75,\n",
       "   'test_loss': 0.684,\n",
       "   'test_acc': 0.75},\n",
       "  {'train_loss': 0.684,\n",
       "   'train_acc': 0.833,\n",
       "   'test_loss': 0.684,\n",
       "   'test_acc': 0.75},\n",
       "  {'train_loss': 0.684,\n",
       "   'train_acc': 0.667,\n",
       "   'test_loss': 0.684,\n",
       "   'test_acc': 0.75},\n",
       "  {'train_loss': 0.682,\n",
       "   'train_acc': 0.833,\n",
       "   'test_loss': 0.684,\n",
       "   'test_acc': 0.75},\n",
       "  {'train_loss': 0.689,\n",
       "   'train_acc': 0.667,\n",
       "   'test_loss': 0.683,\n",
       "   'test_acc': 0.75},\n",
       "  {'train_loss': 0.676,\n",
       "   'train_acc': 0.833,\n",
       "   'test_loss': 0.683,\n",
       "   'test_acc': 0.75},\n",
       "  {'train_loss': 0.683,\n",
       "   'train_acc': 0.917,\n",
       "   'test_loss': 0.683,\n",
       "   'test_acc': 0.75},\n",
       "  {'train_loss': 0.679,\n",
       "   'train_acc': 0.833,\n",
       "   'test_loss': 0.683,\n",
       "   'test_acc': 0.75}],\n",
       " 'label_num': {'bike': 0, 'car': 1},\n",
       " 'end': '2021-12-30 17:44:31'}"
      ]
     },
     "execution_count": 8,
     "metadata": {},
     "output_type": "execute_result"
    }
   ],
   "source": [
    "manager.training_result"
   ]
  },
  {
   "cell_type": "markdown",
   "metadata": {},
   "source": [
    "## save and load model weight data"
   ]
  },
  {
   "cell_type": "code",
   "execution_count": 9,
   "metadata": {},
   "outputs": [],
   "source": [
    "SAVE_FILE_NAME = \"LW60_test\"\n",
    "manager.save_weight(fname=SAVE_FILE_NAME)"
   ]
  },
  {
   "cell_type": "code",
   "execution_count": 10,
   "metadata": {},
   "outputs": [],
   "source": [
    "next_manager = Manager(model=model, label_num_dict=label_num_dict)\n",
    "next_manager.load_weight(fname=SAVE_FILE_NAME)"
   ]
  },
  {
   "cell_type": "markdown",
   "metadata": {},
   "source": [
    "## prediction"
   ]
  },
  {
   "cell_type": "code",
   "execution_count": 11,
   "metadata": {},
   "outputs": [
    {
     "data": {
      "text/plain": [
       "'bike'"
      ]
     },
     "execution_count": 11,
     "metadata": {},
     "output_type": "execute_result"
    }
   ],
   "source": [
    "TARGET_IMG_PATH = \"./test/test_imgs/img/bike/bike_01.jpg\"\n",
    "next_manager.predict(TARGET_IMG_PATH)"
   ]
  },
  {
   "cell_type": "code",
   "execution_count": null,
   "metadata": {},
   "outputs": [],
   "source": []
  }
 ],
 "metadata": {
  "kernelspec": {
   "display_name": "Python 3",
   "language": "python",
   "name": "python3"
  },
  "language_info": {
   "codemirror_mode": {
    "name": "ipython",
    "version": 3
   },
   "file_extension": ".py",
   "mimetype": "text/x-python",
   "name": "python",
   "nbconvert_exporter": "python",
   "pygments_lexer": "ipython3",
   "version": "3.7.0"
  }
 },
 "nbformat": 4,
 "nbformat_minor": 4
}
