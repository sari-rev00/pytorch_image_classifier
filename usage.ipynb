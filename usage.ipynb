{
 "cells": [
  {
   "cell_type": "code",
   "execution_count": 1,
   "metadata": {},
   "outputs": [],
   "source": [
    "import matplotlib.pyplot as plt\n",
    "%matplotlib inline\n",
    "from PIL import Image, ImageFilter\n",
    "from pprint import pprint\n",
    "import numpy as np\n",
    "import pandas as pd\n",
    "from datetime import datetime\n",
    "\n",
    "from utils.dataloader import gen_dataloader\n",
    "from utils.model_manager import Manager\n",
    "from models.cnn import LW60, MNIST\n",
    "from config.config import TransformParam, ConfDataloader"
   ]
  },
  {
   "cell_type": "markdown",
   "metadata": {},
   "source": [
    "## dataloader"
   ]
  },
  {
   "cell_type": "code",
   "execution_count": 2,
   "metadata": {},
   "outputs": [
    {
     "name": "stdout",
     "output_type": "stream",
     "text": [
      "{'zero': 0, 'one': 1}\n",
      "{'class': {'zero', 'one'},\n",
      " 'class_num': 2,\n",
      " 'data_num': {'test': {'one': 226, 'zero': 200},\n",
      "              'train': {'one': 901, 'zero': 801}}}\n"
     ]
    }
   ],
   "source": [
    "IMG_DIR_BASE = \"./mnist_data/imgs/\"\n",
    "list_dir = [IMG_DIR_BASE + str(i) + \"/\" for i in range(10)]\n",
    "list_label = [\"zero\", \"one\", \"two\", \"three\", \"four\", \"five\", \"six\", \"seven\", \"eight\", \"nine\"]\n",
    "\n",
    "class_num = 2\n",
    "list_dir = list_dir[:class_num]\n",
    "list_label = list_label[:class_num]\n",
    "\n",
    "dataloader, data_descriptions = gen_dataloader(\n",
    "    data_dirs=list_dir, \n",
    "    labels=list_label, \n",
    "    test_size=0.2)\n",
    "\n",
    "print(dataloader.dataset.label_idx_dict)\n",
    "pprint(data_descriptions)"
   ]
  },
  {
   "cell_type": "code",
   "execution_count": 3,
   "metadata": {},
   "outputs": [
    {
     "name": "stdout",
     "output_type": "stream",
     "text": [
      "data index: 1/426\n",
      "label_index: 1\n",
      "label: one\n",
      "torch.Size([1, 28, 28])\n"
     ]
    },
    {
     "data": {
      "text/plain": [
       "<matplotlib.image.AxesImage at 0x28ba1c0b0f0>"
      ]
     },
     "execution_count": 3,
     "metadata": {},
     "output_type": "execute_result"
    },
    {
     "data": {
      "image/png": "[encoded data removed]",
      "text/plain": [
       "<Figure size 432x288 with 1 Axes>"
      ]
     },
     "metadata": {
      "needs_background": "light"
     },
     "output_type": "display_data"
    }
   ],
   "source": [
    "index = 1\n",
    "\n",
    "dataloader.set_mode(mode=\"test\")\n",
    "x, y = dataloader.dataset.__getitem__(index=index)\n",
    "\n",
    "print(f\"data index: {index}/{dataloader.dataset.__len__()}\")\n",
    "print(f\"label_index: {y}\")\n",
    "print(f\"label: {dataloader.dataset.label_idx2label(label_index=y.item())}\")\n",
    "print(x.size())\n",
    "# plt.imshow(x.numpy().transpose((1, 2, 0)))\n",
    "arr_x = np.squeeze(x.numpy().transpose((1, 2, 0)))\n",
    "plt.imshow(arr_x, cmap = \"gray\")"
   ]
  },
  {
   "cell_type": "markdown",
   "metadata": {},
   "source": [
    "# model"
   ]
  },
  {
   "cell_type": "code",
   "execution_count": 4,
   "metadata": {},
   "outputs": [],
   "source": [
    "model = MNIST(\n",
    "    d_params={\n",
    "        \"dropout_feature\": 0.3,\n",
    "        \"dropout_classifier\": 0.3,\n",
    "        \"class_num\": data_descriptions[\"class_num\"]})"
   ]
  },
  {
   "cell_type": "code",
   "execution_count": 5,
   "metadata": {},
   "outputs": [
    {
     "data": {
      "text/plain": [
       "{'name': 'MNIST',\n",
       " 'input_size': 28,\n",
       " 'input_channel': 1,\n",
       " 'params': {'dropout_feature': 0.3, 'dropout_classifier': 0.3, 'class_num': 2}}"
      ]
     },
     "execution_count": 5,
     "metadata": {},
     "output_type": "execute_result"
    }
   ],
   "source": [
    "model.model_descriptions()"
   ]
  },
  {
   "cell_type": "markdown",
   "metadata": {},
   "source": [
    "## prepare manager and train model"
   ]
  },
  {
   "cell_type": "code",
   "execution_count": 6,
   "metadata": {},
   "outputs": [
    {
     "name": "stdout",
     "output_type": "stream",
     "text": [
      "Training: MNIST 20220103211026\n",
      "\n",
      "Epoch:1/20 ============\n",
      "    Mode: train, Loss: 0.688, Acc: 0.5411\n",
      "    Mode: test, Loss: 0.6781, Acc: 0.5305\n",
      "Epoch:2/20 ============\n",
      "    Mode: train, Loss: 0.6614, Acc: 0.6187\n",
      "    Mode: test, Loss: 0.5999, Acc: 0.8122\n",
      "Epoch:3/20 ============\n",
      "    Mode: train, Loss: 0.3393, Acc: 0.916\n",
      "    Mode: test, Loss: 0.0669, Acc: 0.9953\n",
      "Epoch:4/20 ============\n",
      "    Mode: train, Loss: 0.0477, Acc: 0.9888\n",
      "    Mode: test, Loss: 0.0195, Acc: 0.9953\n",
      "Epoch:5/20 ============\n",
      "    Mode: train, Loss: 0.0239, Acc: 0.9953\n",
      "    Mode: test, Loss: 0.0158, Acc: 0.9953\n",
      "Epoch:6/20 ============\n",
      "    Mode: train, Loss: 0.0182, Acc: 0.9929\n",
      "    Mode: test, Loss: 0.0065, Acc: 0.9977\n",
      "Epoch:7/20 ============\n",
      "    Mode: train, Loss: 0.0145, Acc: 0.9947\n",
      "    Mode: test, Loss: 0.0066, Acc: 0.9977\n",
      "Epoch:8/20 ============\n",
      "    Mode: train, Loss: 0.0106, Acc: 0.9959\n",
      "    Mode: test, Loss: 0.0056, Acc: 0.9977\n",
      "Epoch:9/20 ============\n",
      "    Mode: train, Loss: 0.0093, Acc: 0.9982\n",
      "    Mode: test, Loss: 0.0099, Acc: 0.9953\n",
      "Epoch:10/20 ============\n",
      "    Mode: train, Loss: 0.0123, Acc: 0.9965\n",
      "    Mode: test, Loss: 0.003, Acc: 1.0\n",
      "Epoch:11/20 ============\n",
      "    Mode: train, Loss: 0.0071, Acc: 0.9982\n",
      "    Mode: test, Loss: 0.0027, Acc: 0.9977\n",
      "Epoch:12/20 ============\n",
      "    Mode: train, Loss: 0.0073, Acc: 0.9976\n",
      "    Mode: test, Loss: 0.0039, Acc: 0.9977\n",
      "Epoch:13/20 ============\n",
      "    Mode: train, Loss: 0.0065, Acc: 0.9976\n",
      "    Mode: test, Loss: 0.0074, Acc: 0.9953\n",
      "Epoch:14/20 ============\n",
      "    Mode: train, Loss: 0.0046, Acc: 0.9976\n",
      "    Mode: test, Loss: 0.0024, Acc: 1.0\n",
      "Epoch:15/20 ============\n",
      "    Mode: train, Loss: 0.0073, Acc: 0.9976\n",
      "    Mode: test, Loss: 0.004, Acc: 0.9977\n",
      "Epoch:16/20 ============\n",
      "    Mode: train, Loss: 0.0074, Acc: 0.9976\n",
      "    Mode: test, Loss: 0.0072, Acc: 0.9953\n",
      "Epoch:17/20 ============\n",
      "    Mode: train, Loss: 0.0069, Acc: 0.9971\n",
      "    Mode: test, Loss: 0.0025, Acc: 1.0\n",
      "Epoch:18/20 ============\n",
      "    Mode: train, Loss: 0.0058, Acc: 0.9988\n",
      "    Mode: test, Loss: 0.0025, Acc: 0.9977\n",
      "Epoch:19/20 ============\n",
      "    Mode: train, Loss: 0.0049, Acc: 0.9994\n",
      "    Mode: test, Loss: 0.003, Acc: 0.9977\n",
      "Epoch:20/20 ============\n",
      "    Mode: train, Loss: 0.0049, Acc: 0.9982\n",
      "    Mode: test, Loss: 0.0062, Acc: 0.9953\n",
      "saved: training information\n"
     ]
    }
   ],
   "source": [
    "manager = Manager(model=model)\n",
    "manager.train(num_epochs=20, dataloader=dataloader, print_epoch_step=int(1))\n",
    "plt.close()"
   ]
  },
  {
   "cell_type": "code",
   "execution_count": 7,
   "metadata": {},
   "outputs": [
    {
     "name": "stderr",
     "output_type": "stream",
     "text": [
      "c:\\users\\arimu\\appdata\\local\\programs\\python\\python37\\lib\\site-packages\\matplotlib\\figure.py:457: UserWarning: matplotlib is currently using a non-GUI backend, so cannot show the figure\n",
      "  \"matplotlib is currently using a non-GUI backend, \"\n"
     ]
    },
    {
     "data": {
      "image/png": "[encoded data removed]",
      "text/plain": [
       "<Figure size 1152x432 with 2 Axes>"
      ]
     },
     "metadata": {
      "needs_background": "light"
     },
     "output_type": "display_data"
    }
   ],
   "source": [
    "result_fig = manager.make_result_fig()\n",
    "result_fig.show()"
   ]
  },
  {
   "cell_type": "markdown",
   "metadata": {},
   "source": [
    "## save and load model info data"
   ]
  },
  {
   "cell_type": "code",
   "execution_count": 8,
   "metadata": {},
   "outputs": [],
   "source": [
    "save_dir = \"MNIST_test/\"\n",
    "SAVE_FILE_NAME = \"MNIST_test\"\n",
    "manager.save_model_info(dir=save_dir, fname=SAVE_FILE_NAME)"
   ]
  },
  {
   "cell_type": "code",
   "execution_count": 9,
   "metadata": {},
   "outputs": [],
   "source": [
    "next_manager = Manager(model=MNIST(model_info_fname=save_dir + SAVE_FILE_NAME))"
   ]
  },
  {
   "cell_type": "markdown",
   "metadata": {},
   "source": [
    "## prediction"
   ]
  },
  {
   "cell_type": "code",
   "execution_count": 10,
   "metadata": {},
   "outputs": [
    {
     "name": "stdout",
     "output_type": "stream",
     "text": [
      "index: 0, label: zero, prediction: zero\n",
      "index: 1, label: one, prediction: one\n",
      "index: 2, label: zero, prediction: zero\n",
      "index: 3, label: zero, prediction: zero\n",
      "index: 4, label: zero, prediction: zero\n",
      "index: 5, label: zero, prediction: zero\n",
      "index: 6, label: one, prediction: one\n",
      "index: 7, label: one, prediction: one\n",
      "index: 8, label: one, prediction: one\n",
      "index: 9, label: zero, prediction: zero\n"
     ]
    }
   ],
   "source": [
    "for index in range(10):\n",
    "    dataloader.set_mode(mode=\"test\")\n",
    "    fn, label = dataloader.dataset.get_filename_label(index=index)\n",
    "    pred = next_manager.predict(fpath=fn)\n",
    "    print(f\"index: {index}, label: {label}, prediction: {pred}\")"
   ]
  },
  {
   "cell_type": "code",
   "execution_count": null,
   "metadata": {},
   "outputs": [],
   "source": []
  }
 ],
 "metadata": {
  "kernelspec": {
   "display_name": "Python 3",
   "language": "python",
   "name": "python3"
  },
  "language_info": {
   "codemirror_mode": {
    "name": "ipython",
    "version": 3
   },
   "file_extension": ".py",
   "mimetype": "text/x-python",
   "name": "python",
   "nbconvert_exporter": "python",
   "pygments_lexer": "ipython3",
   "version": "3.7.0"
  }
 },
 "nbformat": 4,
 "nbformat_minor": 4
}
