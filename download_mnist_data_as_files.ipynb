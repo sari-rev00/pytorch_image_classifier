{
 "cells": [
  {
   "cell_type": "code",
   "execution_count": 1,
   "metadata": {},
   "outputs": [],
   "source": [
    "from utils.download_mnist_data import download_mnist_image_files\n",
    "from pprint import pprint"
   ]
  },
  {
   "cell_type": "code",
   "execution_count": 2,
   "metadata": {},
   "outputs": [
    {
     "name": "stdout",
     "output_type": "stream",
     "text": [
      "preparing img files...\n",
      "removed stored img\n",
      "Completed\n",
      "{'0': 1001,\n",
      " '1': 1127,\n",
      " '2': 991,\n",
      " '3': 1032,\n",
      " '4': 980,\n",
      " '5': 863,\n",
      " '6': 1014,\n",
      " '7': 1070,\n",
      " '8': 944,\n",
      " '9': 978}\n"
     ]
    }
   ],
   "source": [
    "d_count = download_mnist_image_files(data_num=10000)\n",
    "pprint(d_count)"
   ]
  },
  {
   "cell_type": "code",
   "execution_count": null,
   "metadata": {},
   "outputs": [],
   "source": []
  }
 ],
 "metadata": {
  "kernelspec": {
   "display_name": "Python 3",
   "language": "python",
   "name": "python3"
  },
  "language_info": {
   "codemirror_mode": {
    "name": "ipython",
    "version": 3
   },
   "file_extension": ".py",
   "mimetype": "text/x-python",
   "name": "python",
   "nbconvert_exporter": "python",
   "pygments_lexer": "ipython3",
   "version": "3.7.0"
  }
 },
 "nbformat": 4,
 "nbformat_minor": 4
}
