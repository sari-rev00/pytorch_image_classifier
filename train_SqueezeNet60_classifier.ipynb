{
 "cells": [
  {
   "cell_type": "code",
   "execution_count": null,
   "metadata": {},
   "outputs": [],
   "source": [
    "import matplotlib.pyplot as plt\n",
    "%matplotlib inline\n",
    "from PIL import Image, ImageFilter\n",
    "from pprint import pprint\n",
    "import numpy as np\n",
    "import pandas as pd\n",
    "from datetime import datetime\n",
    "\n",
    "from utils.dataloader import gen_dataloader_with_specified_train_val_data\n",
    "from utils.model_manager import Manager\n",
    "from models.cnn import SqueezedNet60, SqueezedNetLW60\n",
    "from config.config import TransformParam, ConfDataloader"
   ]
  },
  {
   "cell_type": "code",
   "execution_count": 2,
   "metadata": {},
   "outputs": [],
   "source": [
    "IMG_DIR_BASE = \"./test_img_size60/cam2/\"\n",
    "\n",
    "# train data ==================================\n",
    "train_data_dir = [\n",
    "    \"deta_aug_basic_20200601_lab_0-01\",\n",
    "    \"deta_aug_basic_20200601_lab_1-01\",\n",
    "    \"deta_aug_basic_20200601_lab_2-01\",\n",
    "]\n",
    "train_data_dir = [IMG_DIR_BASE + d for d in train_data_dir]\n",
    "train_labels = [\"0\", \"1\", \"2\"]\n",
    "\n",
    "\n",
    "# val data ====================================\n",
    "val_data_dir = [\n",
    "    \"2020-06-02/cam2/cam2_0_0\",\n",
    "    \"2020-06-02/cam2/cam2_0_1\",\n",
    "    \"2020-06-02/cam2/cam2_0_2\",\n",
    "    \"2020-06-03/cam2/cam2_0_0\",\n",
    "    \"2020-06-03/cam2/cam2_0_1\",\n",
    "    \"2020-06-03/cam2/cam2_0_2\",\n",
    "]\n",
    "val_data_dir = [IMG_DIR_BASE + d for d in val_data_dir]\n",
    "val_labels = [\"0\", \"1\", \"2\"] + [\"0\", \"1\", \"2\"]\n"
   ]
  },
  {
   "cell_type": "code",
   "execution_count": 3,
   "metadata": {},
   "outputs": [
    {
     "name": "stdout",
     "output_type": "stream",
     "text": [
      "{'class': {'0', '2', '1'},\n",
      " 'class_num': 3,\n",
      " 'data_num': {'test': {'0': 181, '1': 780, '2': 83},\n",
      "              'train': {'0': 585, '1': 953, '2': 760}}}\n"
     ]
    }
   ],
   "source": [
    "dataloader, data_descriptions = gen_dataloader_with_specified_train_val_data(\n",
    "    train_data_dir=train_data_dir, \n",
    "    train_labels=train_labels, \n",
    "    val_data_dir=val_data_dir, \n",
    "    val_labels=val_labels)\n",
    "\n",
    "# print(dataloader.dataset.label_idx_dict)\n",
    "pprint(data_descriptions)"
   ]
  },
  {
   "cell_type": "code",
   "execution_count": 4,
   "metadata": {},
   "outputs": [
    {
     "name": "stderr",
     "output_type": "stream",
     "text": [
      "Clipping input data to the valid range for imshow with RGB data ([0..1] for floats or [0..255] for integers).\n"
     ]
    },
    {
     "name": "stdout",
     "output_type": "stream",
     "text": [
      "data index: 10/2298\n",
      "label_index: 2\n",
      "label: 1\n",
      "torch.Size([3, 60, 60])\n"
     ]
    },
    {
     "data": {
      "text/plain": [
       "<matplotlib.image.AxesImage at 0x202889bf710>"
      ]
     },
     "execution_count": 4,
     "metadata": {},
     "output_type": "execute_result"
    },
    {
     "data": {
      "image/png": "[encoded data removed]",
      "text/plain": [
       "<Figure size 432x288 with 1 Axes>"
      ]
     },
     "metadata": {
      "needs_background": "light"
     },
     "output_type": "display_data"
    }
   ],
   "source": [
    "index = 10\n",
    "mode = \"train\"\n",
    "\n",
    "x, y = dataloader.set_mode(mode=mode).dataset.__getitem__(index=index)\n",
    "\n",
    "print(f\"data index: {index}/{dataloader.dataset.__len__()}\")\n",
    "print(f\"label_index: {y}\")\n",
    "print(f\"label: {dataloader.dataset.label_idx2label(label_index=y.item())}\")\n",
    "print(x.size())\n",
    "\n",
    "arr_x = np.squeeze(x.numpy().transpose((1, 2, 0)))\n",
    "plt.imshow(arr_x)"
   ]
  },
  {
   "cell_type": "code",
   "execution_count": 5,
   "metadata": {},
   "outputs": [
    {
     "data": {
      "text/plain": [
       "{'name': 'SqueezedNetLW60',\n",
       " 'input_size': 60,\n",
       " 'input_channel': 3,\n",
       " 'params': {'dropout': 0.3, 'class_num': 3}}"
      ]
     },
     "execution_count": 5,
     "metadata": {},
     "output_type": "execute_result"
    }
   ],
   "source": [
    "model = SqueezedNetLW60(\n",
    "    d_params={\n",
    "        \"dropout\": 0.3,\n",
    "        \"class_num\": data_descriptions[\"class_num\"]})\n",
    "model.model_descriptions()"
   ]
  },
  {
   "cell_type": "code",
   "execution_count": 6,
   "metadata": {},
   "outputs": [
    {
     "data": {
      "text/plain": [
       "SqueezedNetLW60(\n",
       "  (features): Sequential(\n",
       "    (0): Conv2d(3, 32, kernel_size=(5, 5), stride=(1, 1), padding=(2, 2))\n",
       "    (1): BatchNorm2d(32, eps=1e-05, momentum=0.1, affine=True, track_running_stats=True)\n",
       "    (2): ReLU(inplace=True)\n",
       "    (3): MaxPool2d(kernel_size=2, stride=2, padding=0, dilation=1, ceil_mode=False)\n",
       "    (4): Fire(\n",
       "      (squeeze): Sequential(\n",
       "        (0): Conv2d(32, 4, kernel_size=(1, 1), stride=(1, 1))\n",
       "        (1): BatchNorm2d(4, eps=1e-05, momentum=0.1, affine=True, track_running_stats=True)\n",
       "        (2): ReLU(inplace=True)\n",
       "      )\n",
       "      (expand1x1): Sequential(\n",
       "        (0): Conv2d(4, 16, kernel_size=(1, 1), stride=(1, 1))\n",
       "        (1): BatchNorm2d(16, eps=1e-05, momentum=0.1, affine=True, track_running_stats=True)\n",
       "        (2): ReLU(inplace=True)\n",
       "      )\n",
       "      (expand3x3): Sequential(\n",
       "        (0): Conv2d(4, 16, kernel_size=(3, 3), stride=(1, 1), padding=(1, 1))\n",
       "        (1): BatchNorm2d(16, eps=1e-05, momentum=0.1, affine=True, track_running_stats=True)\n",
       "        (2): ReLU(inplace=True)\n",
       "      )\n",
       "    )\n",
       "    (5): Fire(\n",
       "      (squeeze): Sequential(\n",
       "        (0): Conv2d(32, 8, kernel_size=(1, 1), stride=(1, 1))\n",
       "        (1): BatchNorm2d(8, eps=1e-05, momentum=0.1, affine=True, track_running_stats=True)\n",
       "        (2): ReLU(inplace=True)\n",
       "      )\n",
       "      (expand1x1): Sequential(\n",
       "        (0): Conv2d(8, 32, kernel_size=(1, 1), stride=(1, 1))\n",
       "        (1): BatchNorm2d(32, eps=1e-05, momentum=0.1, affine=True, track_running_stats=True)\n",
       "        (2): ReLU(inplace=True)\n",
       "      )\n",
       "      (expand3x3): Sequential(\n",
       "        (0): Conv2d(8, 32, kernel_size=(3, 3), stride=(1, 1), padding=(1, 1))\n",
       "        (1): BatchNorm2d(32, eps=1e-05, momentum=0.1, affine=True, track_running_stats=True)\n",
       "        (2): ReLU(inplace=True)\n",
       "      )\n",
       "    )\n",
       "    (6): MaxPool2d(kernel_size=2, stride=2, padding=0, dilation=1, ceil_mode=False)\n",
       "    (7): Fire(\n",
       "      (squeeze): Sequential(\n",
       "        (0): Conv2d(64, 8, kernel_size=(1, 1), stride=(1, 1))\n",
       "        (1): BatchNorm2d(8, eps=1e-05, momentum=0.1, affine=True, track_running_stats=True)\n",
       "        (2): ReLU(inplace=True)\n",
       "      )\n",
       "      (expand1x1): Sequential(\n",
       "        (0): Conv2d(8, 32, kernel_size=(1, 1), stride=(1, 1))\n",
       "        (1): BatchNorm2d(32, eps=1e-05, momentum=0.1, affine=True, track_running_stats=True)\n",
       "        (2): ReLU(inplace=True)\n",
       "      )\n",
       "      (expand3x3): Sequential(\n",
       "        (0): Conv2d(8, 32, kernel_size=(3, 3), stride=(1, 1), padding=(1, 1))\n",
       "        (1): BatchNorm2d(32, eps=1e-05, momentum=0.1, affine=True, track_running_stats=True)\n",
       "        (2): ReLU(inplace=True)\n",
       "      )\n",
       "    )\n",
       "    (8): Fire(\n",
       "      (squeeze): Sequential(\n",
       "        (0): Conv2d(64, 8, kernel_size=(1, 1), stride=(1, 1))\n",
       "        (1): BatchNorm2d(8, eps=1e-05, momentum=0.1, affine=True, track_running_stats=True)\n",
       "        (2): ReLU(inplace=True)\n",
       "      )\n",
       "      (expand1x1): Sequential(\n",
       "        (0): Conv2d(8, 32, kernel_size=(1, 1), stride=(1, 1))\n",
       "        (1): BatchNorm2d(32, eps=1e-05, momentum=0.1, affine=True, track_running_stats=True)\n",
       "        (2): ReLU(inplace=True)\n",
       "      )\n",
       "      (expand3x3): Sequential(\n",
       "        (0): Conv2d(8, 32, kernel_size=(3, 3), stride=(1, 1), padding=(1, 1))\n",
       "        (1): BatchNorm2d(32, eps=1e-05, momentum=0.1, affine=True, track_running_stats=True)\n",
       "        (2): ReLU(inplace=True)\n",
       "      )\n",
       "    )\n",
       "    (9): Fire(\n",
       "      (squeeze): Sequential(\n",
       "        (0): Conv2d(64, 16, kernel_size=(1, 1), stride=(1, 1))\n",
       "        (1): BatchNorm2d(16, eps=1e-05, momentum=0.1, affine=True, track_running_stats=True)\n",
       "        (2): ReLU(inplace=True)\n",
       "      )\n",
       "      (expand1x1): Sequential(\n",
       "        (0): Conv2d(16, 64, kernel_size=(1, 1), stride=(1, 1))\n",
       "        (1): BatchNorm2d(64, eps=1e-05, momentum=0.1, affine=True, track_running_stats=True)\n",
       "        (2): ReLU(inplace=True)\n",
       "      )\n",
       "      (expand3x3): Sequential(\n",
       "        (0): Conv2d(16, 64, kernel_size=(3, 3), stride=(1, 1), padding=(1, 1))\n",
       "        (1): BatchNorm2d(64, eps=1e-05, momentum=0.1, affine=True, track_running_stats=True)\n",
       "        (2): ReLU(inplace=True)\n",
       "      )\n",
       "    )\n",
       "    (10): MaxPool2d(kernel_size=3, stride=3, padding=0, dilation=1, ceil_mode=False)\n",
       "    (11): Fire(\n",
       "      (squeeze): Sequential(\n",
       "        (0): Conv2d(128, 16, kernel_size=(1, 1), stride=(1, 1))\n",
       "        (1): BatchNorm2d(16, eps=1e-05, momentum=0.1, affine=True, track_running_stats=True)\n",
       "        (2): ReLU(inplace=True)\n",
       "      )\n",
       "      (expand1x1): Sequential(\n",
       "        (0): Conv2d(16, 64, kernel_size=(1, 1), stride=(1, 1))\n",
       "        (1): BatchNorm2d(64, eps=1e-05, momentum=0.1, affine=True, track_running_stats=True)\n",
       "        (2): ReLU(inplace=True)\n",
       "      )\n",
       "      (expand3x3): Sequential(\n",
       "        (0): Conv2d(16, 64, kernel_size=(3, 3), stride=(1, 1), padding=(1, 1))\n",
       "        (1): BatchNorm2d(64, eps=1e-05, momentum=0.1, affine=True, track_running_stats=True)\n",
       "        (2): ReLU(inplace=True)\n",
       "      )\n",
       "    )\n",
       "    (12): Dropout2d(p=0.3, inplace=False)\n",
       "  )\n",
       "  (classifier): Sequential(\n",
       "    (0): Conv2d(128, 3, kernel_size=(1, 1), stride=(1, 1))\n",
       "    (1): ReLU(inplace=True)\n",
       "    (2): AdaptiveAvgPool2d(output_size=(1, 1))\n",
       "  )\n",
       ")"
      ]
     },
     "execution_count": 6,
     "metadata": {},
     "output_type": "execute_result"
    }
   ],
   "source": [
    "model"
   ]
  },
  {
   "cell_type": "code",
   "execution_count": 7,
   "metadata": {},
   "outputs": [
    {
     "name": "stdout",
     "output_type": "stream",
     "text": [
      "Training: SqueezedNetLW60 20220430005026\n",
      "batch size: 8\n",
      "\n",
      "Epoch:5/50 ============\n",
      "    Mode: train, Loss: 0.5744, Acc: 0.9098\n",
      "    Mode: test, Loss: 0.2142, Acc: 0.9971\n",
      "Epoch:10/50 ============\n",
      "    Mode: train, Loss: 0.3306, Acc: 0.9521\n",
      "    Mode: test, Loss: 0.0657, Acc: 0.9971\n",
      "Epoch:15/50 ============\n",
      "    Mode: train, Loss: 0.2432, Acc: 0.9573\n",
      "    Mode: test, Loss: 0.0224, Acc: 0.9971\n",
      "Epoch:20/50 ============\n",
      "    Mode: train, Loss: 0.1472, Acc: 0.9769\n",
      "    Mode: test, Loss: 0.0206, Acc: 0.9952\n",
      "Epoch:25/50 ============\n",
      "    Mode: train, Loss: 0.1339, Acc: 0.9765\n",
      "    Mode: test, Loss: 0.0138, Acc: 0.9962\n",
      "Epoch:30/50 ============\n",
      "    Mode: train, Loss: 0.1068, Acc: 0.9817\n",
      "    Mode: test, Loss: 0.0062, Acc: 0.999\n",
      "Epoch:35/50 ============\n",
      "    Mode: train, Loss: 0.1133, Acc: 0.983\n",
      "    Mode: test, Loss: 0.0051, Acc: 0.999\n",
      "Epoch:40/50 ============\n",
      "    Mode: train, Loss: 0.0943, Acc: 0.9852\n",
      "    Mode: test, Loss: 0.0053, Acc: 0.9971\n",
      "Epoch:45/50 ============\n",
      "    Mode: train, Loss: 0.0801, Acc: 0.9817\n",
      "    Mode: test, Loss: 0.0026, Acc: 1.0\n",
      "Epoch:50/50 ============\n",
      "    Mode: train, Loss: 0.0763, Acc: 0.9887\n",
      "    Mode: test, Loss: 0.0061, Acc: 0.9981\n",
      "saved: training information\n"
     ]
    }
   ],
   "source": [
    "manager = Manager(model=model)\n",
    "manager.train(\n",
    "    num_epochs=50, \n",
    "    dataloader=dataloader, \n",
    "    print_epoch_step=int(5),\n",
    "    auto_save=True)\n",
    "plt.close()"
   ]
  },
  {
   "cell_type": "code",
   "execution_count": 8,
   "metadata": {},
   "outputs": [
    {
     "name": "stderr",
     "output_type": "stream",
     "text": [
      "c:\\users\\arimu\\appdata\\local\\programs\\python\\python37\\lib\\site-packages\\ipykernel_launcher.py:2: UserWarning: Matplotlib is currently using module://ipykernel.pylab.backend_inline, which is a non-GUI backend, so cannot show the figure.\n",
      "  \n"
     ]
    },
    {
     "data": {
      "image/png": "[encoded data removed]",
      "text/plain": [
       "<Figure size 1152x432 with 2 Axes>"
      ]
     },
     "metadata": {
      "needs_background": "light"
     },
     "output_type": "display_data"
    }
   ],
   "source": [
    "result_fig = manager.make_result_fig()\n",
    "result_fig.show()"
   ]
  },
  {
   "cell_type": "code",
   "execution_count": null,
   "metadata": {},
   "outputs": [],
   "source": [
    "# incorrect prediction ===\n",
    "\n",
    "import os\n",
    "\n",
    "dataloader.set_mode(mode=\"test\")\n",
    "for index in range(dataloader.dataset.__len__()):\n",
    "    \n",
    "    fn, label = dataloader.dataset.get_filename_label(index=index)\n",
    "    pred = manager.predict(fpath=fn)\n",
    "    if label != pred:\n",
    "        print(f\"file: {os.path.basename(fn)}, label: {label}, prediction: {pred}\")"
   ]
  },
  {
   "cell_type": "code",
   "execution_count": null,
   "metadata": {},
   "outputs": [],
   "source": []
  }
 ],
 "metadata": {
  "kernelspec": {
   "display_name": "Python 3",
   "language": "python",
   "name": "python3"
  },
  "language_info": {
   "codemirror_mode": {
    "name": "ipython",
    "version": 3
   },
   "file_extension": ".py",
   "mimetype": "text/x-python",
   "name": "python",
   "nbconvert_exporter": "python",
   "pygments_lexer": "ipython3",
   "version": "3.7.0"
  }
 },
 "nbformat": 4,
 "nbformat_minor": 4
}
