{
 "cells": [
  {
   "cell_type": "code",
   "execution_count": 1,
   "metadata": {},
   "outputs": [
    {
     "name": "stderr",
     "output_type": "stream",
     "text": [
      "\n",
      "Bad key text.latex.unicode in file c:\\users\\arimu\\appdata\\local\\programs\\python\\python37\\lib\\site-packages\\matplotlib\\mpl-data\\stylelib\\_classic_test.mplstyle, line 112 ('text.latex.unicode : False # use \"ucs\" and \"inputenc\" LaTeX packages for handling')\n",
      "You probably need to get an updated matplotlibrc file from\n",
      "https://github.com/matplotlib/matplotlib/blob/v3.5.1/matplotlibrc.template\n",
      "or from the matplotlib source distribution\n",
      "\n",
      "Bad key text.latex.preview in file c:\\users\\arimu\\appdata\\local\\programs\\python\\python37\\lib\\site-packages\\matplotlib\\mpl-data\\stylelib\\_classic_test.mplstyle, line 125 ('text.latex.preview : False')\n",
      "You probably need to get an updated matplotlibrc file from\n",
      "https://github.com/matplotlib/matplotlib/blob/v3.5.1/matplotlibrc.template\n",
      "or from the matplotlib source distribution\n",
      "\n",
      "Bad key mathtext.fallback_to_cm in file c:\\users\\arimu\\appdata\\local\\programs\\python\\python37\\lib\\site-packages\\matplotlib\\mpl-data\\stylelib\\_classic_test.mplstyle, line 157 ('mathtext.fallback_to_cm : True  # When True, use symbols from the Computer Modern')\n",
      "You probably need to get an updated matplotlibrc file from\n",
      "https://github.com/matplotlib/matplotlib/blob/v3.5.1/matplotlibrc.template\n",
      "or from the matplotlib source distribution\n",
      "\n",
      "Bad key savefig.jpeg_quality in file c:\\users\\arimu\\appdata\\local\\programs\\python\\python37\\lib\\site-packages\\matplotlib\\mpl-data\\stylelib\\_classic_test.mplstyle, line 420 ('savefig.jpeg_quality: 95       # when a jpeg is saved, the default quality parameter.')\n",
      "You probably need to get an updated matplotlibrc file from\n",
      "https://github.com/matplotlib/matplotlib/blob/v3.5.1/matplotlibrc.template\n",
      "or from the matplotlib source distribution\n",
      "\n",
      "Bad key savefig.frameon in file c:\\users\\arimu\\appdata\\local\\programs\\python\\python37\\lib\\site-packages\\matplotlib\\mpl-data\\stylelib\\_classic_test.mplstyle, line 423 ('savefig.frameon : True')\n",
      "You probably need to get an updated matplotlibrc file from\n",
      "https://github.com/matplotlib/matplotlib/blob/v3.5.1/matplotlibrc.template\n",
      "or from the matplotlib source distribution\n",
      "\n",
      "Bad key pgf.debug in file c:\\users\\arimu\\appdata\\local\\programs\\python\\python37\\lib\\site-packages\\matplotlib\\mpl-data\\stylelib\\_classic_test.mplstyle, line 444 ('pgf.debug           : False')\n",
      "You probably need to get an updated matplotlibrc file from\n",
      "https://github.com/matplotlib/matplotlib/blob/v3.5.1/matplotlibrc.template\n",
      "or from the matplotlib source distribution\n",
      "\n",
      "Bad key verbose.level in file c:\\users\\arimu\\appdata\\local\\programs\\python\\python37\\lib\\site-packages\\matplotlib\\mpl-data\\stylelib\\_classic_test.mplstyle, line 475 ('verbose.level  : silent      # one of silent, helpful, debug, debug-annoying')\n",
      "You probably need to get an updated matplotlibrc file from\n",
      "https://github.com/matplotlib/matplotlib/blob/v3.5.1/matplotlibrc.template\n",
      "or from the matplotlib source distribution\n",
      "\n",
      "Bad key verbose.fileo in file c:\\users\\arimu\\appdata\\local\\programs\\python\\python37\\lib\\site-packages\\matplotlib\\mpl-data\\stylelib\\_classic_test.mplstyle, line 476 ('verbose.fileo  : sys.stdout  # a log filename, sys.stdout or sys.stderr')\n",
      "You probably need to get an updated matplotlibrc file from\n",
      "https://github.com/matplotlib/matplotlib/blob/v3.5.1/matplotlibrc.template\n",
      "or from the matplotlib source distribution\n",
      "\n",
      "Bad key keymap.all_axes in file c:\\users\\arimu\\appdata\\local\\programs\\python\\python37\\lib\\site-packages\\matplotlib\\mpl-data\\stylelib\\_classic_test.mplstyle, line 493 ('keymap.all_axes : a                 # enable all axes')\n",
      "You probably need to get an updated matplotlibrc file from\n",
      "https://github.com/matplotlib/matplotlib/blob/v3.5.1/matplotlibrc.template\n",
      "or from the matplotlib source distribution\n",
      "\n",
      "Bad key animation.avconv_path in file c:\\users\\arimu\\appdata\\local\\programs\\python\\python37\\lib\\site-packages\\matplotlib\\mpl-data\\stylelib\\_classic_test.mplstyle, line 504 ('animation.avconv_path: avconv     # Path to avconv binary. Without full path')\n",
      "You probably need to get an updated matplotlibrc file from\n",
      "https://github.com/matplotlib/matplotlib/blob/v3.5.1/matplotlibrc.template\n",
      "or from the matplotlib source distribution\n",
      "\n",
      "Bad key animation.avconv_args in file c:\\users\\arimu\\appdata\\local\\programs\\python\\python37\\lib\\site-packages\\matplotlib\\mpl-data\\stylelib\\_classic_test.mplstyle, line 506 ('animation.avconv_args:            # Additional arguments to pass to avconv')\n",
      "You probably need to get an updated matplotlibrc file from\n",
      "https://github.com/matplotlib/matplotlib/blob/v3.5.1/matplotlibrc.template\n",
      "or from the matplotlib source distribution\n"
     ]
    }
   ],
   "source": [
    "import matplotlib.pyplot as plt\n",
    "%matplotlib inline\n",
    "from PIL import Image, ImageFilter\n",
    "from pprint import pprint\n",
    "import numpy as np\n",
    "import pandas as pd\n",
    "from datetime import datetime\n",
    "\n",
    "from utils.dataloader import gen_dataloader_with_specified_train_val_data\n",
    "from utils.model_manager import Manager\n",
    "from utils.optimizer import default_optimizer\n",
    "from models.cnn import UltimateLW60\n",
    "from config.config import TransformParam, ConfDataloader"
   ]
  },
  {
   "cell_type": "code",
   "execution_count": 2,
   "metadata": {},
   "outputs": [],
   "source": [
    "IMG_DIR_BASE = \"./test_img_size60/cam2/\"\n",
    "\n",
    "# train data ==================================\n",
    "train_data_dir = [\n",
    "    \"deta_aug_basic_20200601_lab_0-01\",\n",
    "    \"deta_aug_basic_20200601_lab_1-01\",\n",
    "    \"deta_aug_basic_20200601_lab_2-01\",\n",
    "]\n",
    "train_data_dir = [IMG_DIR_BASE + d for d in train_data_dir]\n",
    "train_labels = [\"0\", \"1\", \"2\"]\n",
    "\n",
    "\n",
    "# val data ====================================\n",
    "val_data_dir = [\n",
    "    \"2020-06-02/cam2/cam2_0_0\",\n",
    "    \"2020-06-02/cam2/cam2_0_1\",\n",
    "    \"2020-06-02/cam2/cam2_0_2\",\n",
    "    \"2020-06-03/cam2/cam2_0_0\",\n",
    "    \"2020-06-03/cam2/cam2_0_1\",\n",
    "    \"2020-06-03/cam2/cam2_0_2\",\n",
    "]\n",
    "val_data_dir = [IMG_DIR_BASE + d for d in val_data_dir]\n",
    "val_labels = [\"0\", \"1\", \"2\"] + [\"0\", \"1\", \"2\"]\n"
   ]
  },
  {
   "cell_type": "code",
   "execution_count": 3,
   "metadata": {},
   "outputs": [
    {
     "name": "stdout",
     "output_type": "stream",
     "text": [
      "{'class': {'2', '1', '0'},\n",
      " 'class_num': 3,\n",
      " 'data_num': {'test': {'0': 181, '1': 780, '2': 83},\n",
      "              'train': {'0': 585, '1': 953, '2': 760}}}\n"
     ]
    }
   ],
   "source": [
    "dataloader, data_descriptions = gen_dataloader_with_specified_train_val_data(\n",
    "    train_data_dir=train_data_dir, \n",
    "    train_labels=train_labels, \n",
    "    val_data_dir=val_data_dir, \n",
    "    val_labels=val_labels)\n",
    "\n",
    "# print(dataloader.dataset.label_idx_dict)\n",
    "pprint(data_descriptions)"
   ]
  },
  {
   "cell_type": "code",
   "execution_count": 4,
   "metadata": {},
   "outputs": [
    {
     "name": "stderr",
     "output_type": "stream",
     "text": [
      "Clipping input data to the valid range for imshow with RGB data ([0..1] for floats or [0..255] for integers).\n"
     ]
    },
    {
     "name": "stdout",
     "output_type": "stream",
     "text": [
      "data index: 10/2298\n",
      "label_index: 1\n",
      "label: 1\n",
      "torch.Size([3, 60, 60])\n"
     ]
    },
    {
     "data": {
      "text/plain": [
       "<matplotlib.image.AxesImage at 0x1db4aa9d908>"
      ]
     },
     "execution_count": 4,
     "metadata": {},
     "output_type": "execute_result"
    },
    {
     "data": {
      "image/png": "[encoded data removed]",
      "text/plain": [
       "<Figure size 432x288 with 1 Axes>"
      ]
     },
     "metadata": {
      "needs_background": "light"
     },
     "output_type": "display_data"
    }
   ],
   "source": [
    "index = 10\n",
    "mode = \"train\"\n",
    "\n",
    "x, y = dataloader.set_mode(mode=mode).dataset.__getitem__(index=index)\n",
    "\n",
    "print(f\"data index: {index}/{dataloader.dataset.__len__()}\")\n",
    "print(f\"label_index: {y}\")\n",
    "print(f\"label: {dataloader.dataset.label_idx2label(label_index=y.item())}\")\n",
    "print(x.size())\n",
    "\n",
    "arr_x = np.squeeze(x.numpy().transpose((1, 2, 0)))\n",
    "plt.imshow(arr_x)"
   ]
  },
  {
   "cell_type": "code",
   "execution_count": 9,
   "metadata": {},
   "outputs": [
    {
     "data": {
      "text/plain": [
       "{'name': 'UltimateLW60',\n",
       " 'input_size': 60,\n",
       " 'input_channel': 3,\n",
       " 'params': {'dropout_feature': 0.3, 'dropout_classifier': 0.3, 'class_num': 3}}"
      ]
     },
     "execution_count": 9,
     "metadata": {},
     "output_type": "execute_result"
    }
   ],
   "source": [
    "model = UltimateLW60(\n",
    "    d_params={\n",
    "        \"dropout_feature\": 0.3,\n",
    "        \"dropout_classifier\": 0.3,\n",
    "        \"class_num\": data_descriptions[\"class_num\"]})\n",
    "model.model_descriptions()"
   ]
  },
  {
   "cell_type": "code",
   "execution_count": 10,
   "metadata": {},
   "outputs": [
    {
     "data": {
      "text/plain": [
       "UltimateLW60(\n",
       "  (features): Sequential(\n",
       "    (0): Conv2d(3, 8, kernel_size=(5, 5), stride=(1, 1))\n",
       "    (1): BatchNorm2d(8, eps=1e-05, momentum=0.1, affine=True, track_running_stats=True)\n",
       "    (2): ReLU(inplace=True)\n",
       "    (3): MaxPool2d(kernel_size=2, stride=2, padding=0, dilation=1, ceil_mode=False)\n",
       "    (4): Conv2d(8, 8, kernel_size=(5, 5), stride=(1, 1))\n",
       "    (5): BatchNorm2d(8, eps=1e-05, momentum=0.1, affine=True, track_running_stats=True)\n",
       "    (6): ReLU(inplace=True)\n",
       "    (7): MaxPool2d(kernel_size=2, stride=2, padding=0, dilation=1, ceil_mode=False)\n",
       "    (8): Conv2d(8, 8, kernel_size=(5, 5), stride=(1, 1))\n",
       "    (9): BatchNorm2d(8, eps=1e-05, momentum=0.1, affine=True, track_running_stats=True)\n",
       "    (10): ReLU(inplace=True)\n",
       "    (11): MaxPool2d(kernel_size=2, stride=2, padding=0, dilation=1, ceil_mode=False)\n",
       "    (12): Dropout2d(p=0.3, inplace=False)\n",
       "  )\n",
       "  (classifier): Sequential(\n",
       "    (0): Linear(in_features=128, out_features=3, bias=True)\n",
       "  )\n",
       ")"
      ]
     },
     "execution_count": 10,
     "metadata": {},
     "output_type": "execute_result"
    }
   ],
   "source": [
    "model"
   ]
  },
  {
   "cell_type": "code",
   "execution_count": 11,
   "metadata": {},
   "outputs": [
    {
     "name": "stdout",
     "output_type": "stream",
     "text": [
      "Training: UltimateLW60 20220430110921\n",
      "batch size: 8\n",
      "\n",
      "Epoch:5/100 ============\n",
      "    Mode: train, Loss: 0.3096, Acc: 0.8881\n",
      "    Mode: test, Loss: 0.0519, Acc: 1.0\n",
      "Epoch:10/100 ============\n",
      "    Mode: train, Loss: 0.2091, Acc: 0.9325\n",
      "    Mode: test, Loss: 0.0239, Acc: 1.0\n",
      "Epoch:15/100 ============\n",
      "    Mode: train, Loss: 0.1481, Acc: 0.9699\n",
      "    Mode: test, Loss: 0.015, Acc: 1.0\n",
      "Epoch:20/100 ============\n",
      "    Mode: train, Loss: 0.1166, Acc: 0.9747\n",
      "    Mode: test, Loss: 0.007, Acc: 1.0\n",
      "Epoch:25/100 ============\n",
      "    Mode: train, Loss: 0.1034, Acc: 0.976\n",
      "    Mode: test, Loss: 0.0072, Acc: 1.0\n",
      "Epoch:30/100 ============\n",
      "    Mode: train, Loss: 0.0884, Acc: 0.9791\n",
      "    Mode: test, Loss: 0.0062, Acc: 1.0\n",
      "Epoch:35/100 ============\n",
      "    Mode: train, Loss: 0.0773, Acc: 0.9795\n",
      "    Mode: test, Loss: 0.0038, Acc: 1.0\n",
      "Epoch:40/100 ============\n",
      "    Mode: train, Loss: 0.0655, Acc: 0.9865\n",
      "    Mode: test, Loss: 0.0032, Acc: 1.0\n",
      "Epoch:45/100 ============\n",
      "    Mode: train, Loss: 0.0621, Acc: 0.9913\n",
      "    Mode: test, Loss: 0.0034, Acc: 1.0\n",
      "Epoch:50/100 ============\n",
      "    Mode: train, Loss: 0.0588, Acc: 0.9861\n",
      "    Mode: test, Loss: 0.0022, Acc: 1.0\n",
      "Epoch:55/100 ============\n",
      "    Mode: train, Loss: 0.0539, Acc: 0.9882\n",
      "    Mode: test, Loss: 0.0023, Acc: 1.0\n",
      "Epoch:60/100 ============\n",
      "    Mode: train, Loss: 0.0535, Acc: 0.9926\n",
      "    Mode: test, Loss: 0.0029, Acc: 0.999\n",
      "Epoch:65/100 ============\n",
      "    Mode: train, Loss: 0.0445, Acc: 0.9935\n",
      "    Mode: test, Loss: 0.0022, Acc: 0.999\n",
      "Epoch:70/100 ============\n",
      "    Mode: train, Loss: 0.042, Acc: 0.9909\n",
      "    Mode: test, Loss: 0.0019, Acc: 1.0\n",
      "Epoch:75/100 ============\n",
      "    Mode: train, Loss: 0.0457, Acc: 0.9948\n",
      "    Mode: test, Loss: 0.0012, Acc: 1.0\n",
      "Epoch:80/100 ============\n",
      "    Mode: train, Loss: 0.0372, Acc: 0.9952\n",
      "    Mode: test, Loss: 0.0011, Acc: 1.0\n",
      "Epoch:85/100 ============\n",
      "    Mode: train, Loss: 0.0459, Acc: 0.9909\n",
      "    Mode: test, Loss: 0.0011, Acc: 1.0\n",
      "Epoch:90/100 ============\n",
      "    Mode: train, Loss: 0.0385, Acc: 0.9922\n",
      "    Mode: test, Loss: 0.0022, Acc: 0.999\n",
      "Epoch:95/100 ============\n",
      "    Mode: train, Loss: 0.0354, Acc: 0.9956\n",
      "    Mode: test, Loss: 0.0017, Acc: 1.0\n",
      "Epoch:100/100 ============\n",
      "    Mode: train, Loss: 0.0328, Acc: 0.9961\n",
      "    Mode: test, Loss: 0.0009, Acc: 1.0\n",
      "saved: training information\n"
     ]
    }
   ],
   "source": [
    "manager = Manager(model=model)\n",
    "manager.train(\n",
    "    num_epochs=100, \n",
    "    dataloader=dataloader, \n",
    "    optimizer=default_optimizer(model=model, lr=1e-4),\n",
    "    print_epoch_step=int(5),\n",
    "    auto_save=True)\n",
    "plt.close()"
   ]
  },
  {
   "cell_type": "code",
   "execution_count": 12,
   "metadata": {},
   "outputs": [
    {
     "name": "stderr",
     "output_type": "stream",
     "text": [
      "c:\\users\\arimu\\appdata\\local\\programs\\python\\python37\\lib\\site-packages\\ipykernel_launcher.py:2: UserWarning: Matplotlib is currently using module://ipykernel.pylab.backend_inline, which is a non-GUI backend, so cannot show the figure.\n",
      "  \n"
     ]
    },
    {
     "data": {
      "image/png": "[encoded data removed]",
      "text/plain": [
       "<Figure size 1152x432 with 2 Axes>"
      ]
     },
     "metadata": {
      "needs_background": "light"
     },
     "output_type": "display_data"
    }
   ],
   "source": [
    "result_fig = manager.make_result_fig()\n",
    "result_fig.show()"
   ]
  },
  {
   "cell_type": "code",
   "execution_count": null,
   "metadata": {},
   "outputs": [],
   "source": [
    "# incorrect prediction ===\n",
    "\n",
    "import os\n",
    "\n",
    "dataloader.set_mode(mode=\"test\")\n",
    "for index in range(dataloader.dataset.__len__()):\n",
    "    \n",
    "    fn, label = dataloader.dataset.get_filename_label(index=index)\n",
    "    pred = manager.predict(fpath=fn)\n",
    "    if label != pred:\n",
    "        print(f\"file: {os.path.basename(fn)}, label: {label}, prediction: {pred}\")"
   ]
  },
  {
   "cell_type": "code",
   "execution_count": null,
   "metadata": {},
   "outputs": [],
   "source": []
  }
 ],
 "metadata": {
  "kernelspec": {
   "display_name": "Python 3",
   "language": "python",
   "name": "python3"
  },
  "language_info": {
   "codemirror_mode": {
    "name": "ipython",
    "version": 3
   },
   "file_extension": ".py",
   "mimetype": "text/x-python",
   "name": "python",
   "nbconvert_exporter": "python",
   "pygments_lexer": "ipython3",
   "version": "3.7.0"
  }
 },
 "nbformat": 4,
 "nbformat_minor": 4
}
